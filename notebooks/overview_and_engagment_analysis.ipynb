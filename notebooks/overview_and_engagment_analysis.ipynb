{
 "cells": [
  {
   "cell_type": "markdown",
   "metadata": {},
   "source": []
  },
  {
   "cell_type": "code",
   "execution_count": 25,
   "metadata": {},
   "outputs": [
    {
     "name": "stdout",
     "output_type": "stream",
     "text": [
      "c:\\users\\ermias.tadesse\\10x\\Telecom-Analysis\n"
     ]
    }
   ],
   "source": [
    "import os\n",
    "print(os.getcwd())  # This prints the current working directory\n",
    "os.chdir(r'c:\\users\\ermias.tadesse\\10x\\Telecom-Analysis')  # Set the working directory to the project root\n",
    "\n",
    "# Import the DBConnection class\n",
    "from scripts.db_connection import DBConnection"
   ]
  },
  {
   "cell_type": "markdown",
   "metadata": {},
   "source": []
  },
  {
   "cell_type": "code",
   "execution_count": 26,
   "metadata": {},
   "outputs": [
    {
     "name": "stdout",
     "output_type": "stream",
     "text": [
      "Connection established.\n",
      "Headers: ['Bearer Id', 'Start', 'Start ms', 'End', 'End ms', 'Dur. (ms)', 'IMSI', 'MSISDN/Number', 'IMEI', 'Last Location Name', 'Avg RTT DL (ms)', 'Avg RTT UL (ms)', 'Avg Bearer TP DL (kbps)', 'Avg Bearer TP UL (kbps)', 'TCP DL Retrans. Vol (Bytes)', 'TCP UL Retrans. Vol (Bytes)', 'DL TP < 50 Kbps (%)', '50 Kbps < DL TP < 250 Kbps (%)', '250 Kbps < DL TP < 1 Mbps (%)', 'DL TP > 1 Mbps (%)', 'UL TP < 10 Kbps (%)', '10 Kbps < UL TP < 50 Kbps (%)', '50 Kbps < UL TP < 300 Kbps (%)', 'UL TP > 300 Kbps (%)', 'HTTP DL (Bytes)', 'HTTP UL (Bytes)', 'Activity Duration DL (ms)', 'Activity Duration UL (ms)', 'Dur. (ms).1', 'Handset Manufacturer', 'Handset Type', 'Nb of sec with 125000B < Vol DL', 'Nb of sec with 1250B < Vol UL < 6250B', 'Nb of sec with 31250B < Vol DL < 125000B', 'Nb of sec with 37500B < Vol UL', 'Nb of sec with 6250B < Vol DL < 31250B', 'Nb of sec with 6250B < Vol UL < 37500B', 'Nb of sec with Vol DL < 6250B', 'Nb of sec with Vol UL < 1250B', 'Social Media DL (Bytes)', 'Social Media UL (Bytes)', 'Google DL (Bytes)', 'Google UL (Bytes)', 'Email DL (Bytes)', 'Email UL (Bytes)', 'Youtube DL (Bytes)', 'Youtube UL (Bytes)', 'Netflix DL (Bytes)', 'Netflix UL (Bytes)', 'Gaming DL (Bytes)', 'Gaming UL (Bytes)', 'Other DL (Bytes)', 'Other UL (Bytes)', 'Total UL (Bytes)', 'Total DL (Bytes)']\n",
      "      Bearer Id            Start  Start ms              End  End ms  \\\n",
      "0  1.311448e+19   4/4/2019 12:01     770.0  4/25/2019 14:35   662.0   \n",
      "1  1.311448e+19   4/9/2019 13:04     235.0   4/25/2019 8:15   606.0   \n",
      "2  1.311448e+19   4/9/2019 17:42       1.0  4/25/2019 11:58   652.0   \n",
      "3  1.311448e+19   4/10/2019 0:31     486.0   4/25/2019 7:36   171.0   \n",
      "4  1.311448e+19  4/12/2019 20:10     565.0  4/25/2019 10:40   954.0   \n",
      "5  1.311448e+19  4/12/2019 21:37     439.0   4/25/2019 8:08   553.0   \n",
      "6  1.311448e+19   4/13/2019 8:41     612.0   4/25/2019 8:16   168.0   \n",
      "7  1.304243e+19   4/14/2019 2:11     592.0   4/25/2019 2:26   512.0   \n",
      "8  1.311448e+19  4/14/2019 12:48     121.0  4/25/2019 10:22   960.0   \n",
      "9  1.304243e+19   4/15/2019 0:32       0.0   4/25/2019 0:40   284.0   \n",
      "\n",
      "   Dur. (ms)          IMSI  MSISDN/Number          IMEI  \\\n",
      "0  1823652.0  2.082014e+14   3.366496e+10  3.552121e+13   \n",
      "1  1365104.0  2.082019e+14   3.368185e+10  3.579401e+13   \n",
      "2  1361762.0  2.082003e+14   3.376063e+10  3.528151e+13   \n",
      "3  1321509.0  2.082014e+14   3.375034e+10  3.535661e+13   \n",
      "4  1089009.0  2.082014e+14   3.369980e+10  3.540701e+13   \n",
      "5  1074638.0  2.082014e+14   3.366819e+10  3.529841e+13   \n",
      "6  1035261.0  2.082014e+14   3.366537e+10  8.676270e+13   \n",
      "7   951292.0  2.082010e+14   3.376349e+10  8.654640e+13   \n",
      "8   941634.0  2.082014e+14   3.369874e+10  3.556241e+13   \n",
      "9   864482.0  2.082003e+14   3.365922e+10  3.557311e+13   \n",
      "\n",
      "      Last Location Name  ...  Youtube DL (Bytes)  Youtube UL (Bytes)  \\\n",
      "0  9.16456699548519E+015  ...          15854611.0           2501332.0   \n",
      "1                L77566A  ...          20247395.0          19111729.0   \n",
      "2                D42335A  ...          19725661.0          14699576.0   \n",
      "3                T21824A  ...          21388122.0          15146643.0   \n",
      "4                D88865A  ...          15259380.0          18962873.0   \n",
      "5                T89132C  ...          21332918.0           2611113.0   \n",
      "6  9.16456701058919E+015  ...           7234465.0           1886295.0   \n",
      "7   CELL_208_20_520025_1  ...          12189786.0          19735183.0   \n",
      "8                T42084A  ...          18436641.0          10860867.0   \n",
      "9                L20434C  ...          16338345.0           6573194.0   \n",
      "\n",
      "   Netflix DL (Bytes)  Netflix UL (Bytes)  Gaming DL (Bytes)  \\\n",
      "0           8198936.0           9656251.0        278082303.0   \n",
      "1          18338413.0          17227132.0        608750074.0   \n",
      "2          17587794.0           6163408.0        229584621.0   \n",
      "3          13994646.0           1097942.0        799538153.0   \n",
      "4          17124581.0            415218.0        527707248.0   \n",
      "5           7345361.0           6536448.0        710293538.0   \n",
      "6          13231006.0          17981760.0         44796223.0   \n",
      "7           6858496.0          12075206.0        748906189.0   \n",
      "8          10587264.0           8467177.0        821671285.0   \n",
      "9          12211149.0            974201.0        811355188.0   \n",
      "\n",
      "   Gaming UL (Bytes)  Other DL (Bytes)  Other UL (Bytes)  Total UL (Bytes)  \\\n",
      "0         14344150.0       171744450.0         8814393.0        36749741.0   \n",
      "1          1170709.0       526904238.0        15055145.0        53800391.0   \n",
      "2           395630.0       410692588.0         4215763.0        27883638.0   \n",
      "3         10849722.0       749039933.0        12797283.0        43324218.0   \n",
      "4          3529801.0       550709500.0        13910322.0        38542814.0   \n",
      "5         13167974.0       654978277.0         4436057.0        30307754.0   \n",
      "6         14084934.0       803653557.0        10649768.0        47925246.0   \n",
      "7         16149622.0       537601820.0         7714657.0        58813016.0   \n",
      "8          6548349.0       172920486.0        14749031.0        42363146.0   \n",
      "9          1591237.0        64856042.0        12815208.0        22417975.0   \n",
      "\n",
      "   Total DL (Bytes)  \n",
      "0       308879636.0  \n",
      "1       653384965.0  \n",
      "2       279807335.0  \n",
      "3       846028530.0  \n",
      "4       569138589.0  \n",
      "5       754452212.0  \n",
      "6        70562047.0  \n",
      "7       775350343.0  \n",
      "8       861612261.0  \n",
      "9       850570347.0  \n",
      "\n",
      "[10 rows x 55 columns]\n"
     ]
    },
    {
     "name": "stderr",
     "output_type": "stream",
     "text": [
      "c:\\users\\ermias.tadesse\\10x\\Telecom-Analysis\\scripts\\db_connection.py:41: UserWarning: pandas only supports SQLAlchemy connectable (engine/connection) or database string URI or sqlite3 DBAPI2 connection. Other DBAPI2 objects are not tested. Please consider using SQLAlchemy.\n",
      "  df = pd.read_sql_query(query, self.conn)\n"
     ]
    }
   ],
   "source": [
    "# Create a connection instance\n",
    "db = DBConnection(dbname='tele_co', user='postgres', password='Ermi@123')\n",
    "\n",
    "# Connect to the database\n",
    "db.connect()\n",
    "\n",
    "# Define a query to fetch data from the xdr_data table\n",
    "query = \"SELECT * FROM xdr_data LIMIT 10;\"\n",
    "\n",
    "# Fetch data\n",
    "data = db.fetch_data(query)\n",
    "\n",
    "# If data is returned, display it in the desired format\n",
    "if data is not None:\n",
    "    # Display the DataFrame\n",
    "    print(data.head())\n",
    "else:\n",
    "    print(\"No data available.\")"
   ]
  }
 ],
 "metadata": {
  "kernelspec": {
   "display_name": "venv",
   "language": "python",
   "name": "python3"
  },
  "language_info": {
   "codemirror_mode": {
    "name": "ipython",
    "version": 3
   },
   "file_extension": ".py",
   "mimetype": "text/x-python",
   "name": "python",
   "nbconvert_exporter": "python",
   "pygments_lexer": "ipython3",
   "version": "3.12.0"
  }
 },
 "nbformat": 4,
 "nbformat_minor": 2
}
